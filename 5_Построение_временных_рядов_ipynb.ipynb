{
  "nbformat": 4,
  "nbformat_minor": 0,
  "metadata": {
    "kernelspec": {
      "display_name": "Python 3",
      "language": "python",
      "name": "python3"
    },
    "language_info": {
      "codemirror_mode": {
        "name": "ipython",
        "version": 3
      },
      "file_extension": ".py",
      "mimetype": "text/x-python",
      "name": "python",
      "nbconvert_exporter": "python",
      "pygments_lexer": "ipython3",
      "version": "3.7.4"
    },
    "colab": {
      "name": "5 Построение временных рядов.ipynb\"",
      "provenance": [],
      "collapsed_sections": [],
      "include_colab_link": true
    }
  },
  "cells": [
    {
      "cell_type": "markdown",
      "metadata": {
        "id": "view-in-github",
        "colab_type": "text"
      },
      "source": [
        "<a href=\"https://colab.research.google.com/github/timmmariya/Empirical-Law-Studies/blob/main/5_%D0%9F%D0%BE%D1%81%D1%82%D1%80%D0%BE%D0%B5%D0%BD%D0%B8%D0%B5_%D0%B2%D1%80%D0%B5%D0%BC%D0%B5%D0%BD%D0%BD%D1%8B%D1%85_%D1%80%D1%8F%D0%B4%D0%BE%D0%B2_ipynb%22.ipynb\" target=\"_parent\"><img src=\"https://colab.research.google.com/assets/colab-badge.svg\" alt=\"Open In Colab\"/></a>"
      ]
    },
    {
      "cell_type": "markdown",
      "metadata": {
        "id": "N-cOa1Gw7lt2"
      },
      "source": [
        "Представленный Colab Notebook является частью серии наработок по исследованиям в области практической оценки судопроизводства методами численного анализа, проводимых [НУЛ анализа данных правоприменения НИУ ВШЭ](https://adp.hse.ru/). \n",
        "\n",
        "Контактная информация рабочей группы: gkrasnozhenov@hse.ru (Григорий Григорьевич Красноженов, ЗавЛаб НУЛ АДП), timmariya541@gmail.com (Мария Тимонина, стажер, ответственный за текущую задачу)\n",
        "\n",
        "Материалом для анализа служат **данные системы арбитражных судов РФ**.\n",
        "\n",
        "---"
      ]
    },
    {
      "cell_type": "markdown",
      "metadata": {
        "id": "6oQbRUN_xQB7"
      },
      "source": [
        "\n",
        "***Hoping that Next paragraph will come true soon...***\n",
        "\n",
        "На более ранних этапах исследования осуществлена первичная очистка данных. Далее с целью оптимизации обработки блоков базы, относящихся к отдельным временным рядам, строки отсортированы согласно введенной классификации по списку значимых признаков. Подробнее: [предыдущий Colab Notebook](https://colab.research.google.com/drive/123fHdRPJFeiOs8FFUWg7PaFdr99uUVHu?usp=sharing)\n"
      ]
    },
    {
      "cell_type": "markdown",
      "metadata": {
        "id": "qq--F8CMMVwl"
      },
      "source": [
        "#### Реализуем стандартный пролог - подключим необходимые библиотеки и загрузим данные из SQL-базы в pandas dataFrame"
      ]
    },
    {
      "cell_type": "code",
      "metadata": {
        "id": "7BQxPQrQoeCB"
      },
      "source": [
        "import numpy as np\n",
        "import pandas as pd\n",
        "import matplotlib.pyplot as plt\n",
        "\n",
        "plt.style.use('ggplot') # стиль графиков\n",
        "%matplotlib inline"
      ],
      "execution_count": null,
      "outputs": []
    },
    {
      "cell_type": "code",
      "metadata": {
        "id": "oohGOXgDoeCN",
        "colab": {
          "base_uri": "https://localhost:8080/"
        },
        "outputId": "9309d54d-f205-4475-c4ee-14d620efa035"
      },
      "source": [
        "from google.colab import drive\n",
        "drive.mount('/content/drive', force_remount=True)"
      ],
      "execution_count": null,
      "outputs": [
        {
          "output_type": "stream",
          "text": [
            "Mounted at /content/drive\n"
          ],
          "name": "stdout"
        }
      ]
    },
    {
      "cell_type": "code",
      "metadata": {
        "id": "KI6cfQg5oeCO"
      },
      "source": [
        "path = \"/content/drive/MyDrive/НУЛ АДП Материалы Марии Тимониной/_data/APwithEndDates.csv\"\n",
        "df = pd.read_csv(path, sep=',')"
      ],
      "execution_count": null,
      "outputs": []
    },
    {
      "cell_type": "markdown",
      "metadata": {
        "id": "Xg0SdcUBt9tr"
      },
      "source": [
        "# **Постановка задачи**\n",
        "\n",
        "Чтобы проводить сравнительный анализ статистики судебных разбирательств, требуется выделить **временные ряды**.  Они должны отвечать следующим требованиям:\n",
        "\n",
        "1) объединять споры одной или близких направлений, чтобы характеристики ряда могли лечь в основу описания некоторого раздела практики арбитражного суда (существуют различные критерии, предстоит выбрать наиболее релевантные для нашего исследования);\n",
        "\n",
        "2) содержать достаточное количество дел, чтобы послужить выборкой для моделирования распределения случайной величины (установим минимальный порог в 1000 дел для начала);\n",
        "\n",
        "**В этой тетрадке** вы можете найти код и краткое описание процесса построения рядов на основании информации из исходной базы.\n",
        "\n",
        "---\n"
      ]
    },
    {
      "cell_type": "code",
      "metadata": {
        "colab": {
          "base_uri": "https://localhost:8080/",
          "height": 203
        },
        "id": "W49yk2XGqEEE",
        "outputId": "262bcd5d-d19e-44fe-92e6-39d5b69fb5ce"
      },
      "source": [
        "df.head()"
      ],
      "execution_count": null,
      "outputs": [
        {
          "output_type": "execute_result",
          "data": {
            "text/html": [
              "<div>\n",
              "<style scoped>\n",
              "    .dataframe tbody tr th:only-of-type {\n",
              "        vertical-align: middle;\n",
              "    }\n",
              "\n",
              "    .dataframe tbody tr th {\n",
              "        vertical-align: top;\n",
              "    }\n",
              "\n",
              "    .dataframe thead th {\n",
              "        text-align: right;\n",
              "    }\n",
              "</style>\n",
              "<table border=\"1\" class=\"dataframe\">\n",
              "  <thead>\n",
              "    <tr style=\"text-align: right;\">\n",
              "      <th></th>\n",
              "      <th>Номер</th>\n",
              "      <th>Суд</th>\n",
              "      <th>Вид Спора</th>\n",
              "      <th>Категория Спора</th>\n",
              "      <th>Сумма Иска</th>\n",
              "      <th>Сумма Взысканий</th>\n",
              "      <th>Начало</th>\n",
              "      <th>Продолжительность</th>\n",
              "      <th>Конец</th>\n",
              "    </tr>\n",
              "  </thead>\n",
              "  <tbody>\n",
              "    <tr>\n",
              "      <th>0</th>\n",
              "      <td>34925-13/1941</td>\n",
              "      <td>АС Воронежской области</td>\n",
              "      <td>А</td>\n",
              "      <td>О взыскании обязательных платежей и санкций по...</td>\n",
              "      <td>0.0</td>\n",
              "      <td>0.0</td>\n",
              "      <td>2014-01-31</td>\n",
              "      <td>48</td>\n",
              "      <td>2014-03-20</td>\n",
              "    </tr>\n",
              "    <tr>\n",
              "      <th>1</th>\n",
              "      <td>А01-120/2014</td>\n",
              "      <td>АС Республики Адыгея</td>\n",
              "      <td>Г</td>\n",
              "      <td>О признании права собственности</td>\n",
              "      <td>0.0</td>\n",
              "      <td>0.0</td>\n",
              "      <td>2014-01-31</td>\n",
              "      <td>8</td>\n",
              "      <td>2014-02-08</td>\n",
              "    </tr>\n",
              "    <tr>\n",
              "      <th>2</th>\n",
              "      <td>А01-121/2014</td>\n",
              "      <td>АС Республики Адыгея</td>\n",
              "      <td>Г</td>\n",
              "      <td>О неисполнении или ненадлежащем исполнении обя...</td>\n",
              "      <td>34484.9</td>\n",
              "      <td>36484.9</td>\n",
              "      <td>2014-01-31</td>\n",
              "      <td>670</td>\n",
              "      <td>2015-12-02</td>\n",
              "    </tr>\n",
              "    <tr>\n",
              "      <th>3</th>\n",
              "      <td>А01-122/2014</td>\n",
              "      <td>АС СКО</td>\n",
              "      <td>Г</td>\n",
              "      <td>Иные экономические споры</td>\n",
              "      <td>132000.0</td>\n",
              "      <td>176979.0</td>\n",
              "      <td>2014-01-31</td>\n",
              "      <td>419</td>\n",
              "      <td>2015-03-26</td>\n",
              "    </tr>\n",
              "    <tr>\n",
              "      <th>4</th>\n",
              "      <td>А01-123/2014</td>\n",
              "      <td>АС Республики Адыгея</td>\n",
              "      <td>А</td>\n",
              "      <td>О привлечении к административной ответственности</td>\n",
              "      <td>0.0</td>\n",
              "      <td>0.0</td>\n",
              "      <td>2014-01-31</td>\n",
              "      <td>42</td>\n",
              "      <td>2014-03-14</td>\n",
              "    </tr>\n",
              "  </tbody>\n",
              "</table>\n",
              "</div>"
            ],
            "text/plain": [
              "           Номер                     Суд  ... Продолжительность       Конец\n",
              "0  34925-13/1941  АС Воронежской области  ...                48  2014-03-20\n",
              "1   А01-120/2014    АС Республики Адыгея  ...                 8  2014-02-08\n",
              "2   А01-121/2014    АС Республики Адыгея  ...               670  2015-12-02\n",
              "3   А01-122/2014                  АС СКО  ...               419  2015-03-26\n",
              "4   А01-123/2014    АС Республики Адыгея  ...                42  2014-03-14\n",
              "\n",
              "[5 rows x 9 columns]"
            ]
          },
          "metadata": {
            "tags": []
          },
          "execution_count": 4
        }
      ]
    },
    {
      "cell_type": "markdown",
      "metadata": {
        "id": "nkyG2GennOaf"
      },
      "source": [
        "#Функция для упаковки записей из базы во временной ряд на Python \n",
        "\n",
        "Обернем вычисления в удобную функцию, принимающую на вход dataFrame вида, проиллюстрированного выше и переменную-маркер.\n",
        "\n",
        "Если передается маркер 1 (или любое другое число, не равное 0), то будет построена визуализация данных - **график** в осях (Временные интервалы, Значения измеряемой характеристики). Если же график не требуется, следует передать 0.\n",
        "\n",
        "По завершении работы функция  `TS_visualization_basic_info(dataframe_in, dataframe_out)` будет выводить:\n",
        "\n",
        "* общее количество дел в базе\n",
        "\n",
        "* Среднее значение продолжительности споров в базе\n",
        "\n",
        "* самую раннюю и самую позднюю из дат начала рассмотрения дел, собранных в `dataframe_in`\n",
        "\n",
        "и возвращать временной ряд значений наблюдаемой характеристики с индексами-датами типа Timestamp (в настоящий момент это ***Средняя за месяц продолжительность споров***)."
      ]
    },
    {
      "cell_type": "code",
      "metadata": {
        "id": "eH26MDAynZY-"
      },
      "source": [
        "def TS_visualization_basic_info(d1, need_plt):\n",
        "    #вывод на печать граничных интервалов\n",
        "    print('Количество дел в категории:', d1.shape[0])\n",
        "    print('Средняя прод-ть споров категории за все время:', d1['Продолжительность'].mean())\n",
        "    print('First start:', d1['Начало'].min(), '\\nLast start:', d1['Начало'].max())\n",
        "\n",
        "    #создание массива, где в качестве индекса-месяца будет первый день каждого месяца\n",
        "    date_from = pd.Timestamp(d1['Начало'].min()) + pd.DateOffset(months=-1)\n",
        "    date_to = pd.Timestamp(d1['Начало'].max())\n",
        "    index_left = pd.date_range(date_from, date_to, freq=\"M\") + pd.DateOffset(days=1)\n",
        "    index_right = index_left + pd.DateOffset(months=1, days=-1)                     \n",
        "\n",
        "    td1 = pd.DataFrame(pd.Series(0, index=index_left), columns=['MeanLength'])\n",
        "\n",
        "    month_start = index_left.astype(str)\n",
        "    month_end = index_right.astype(str)\n",
        "    #вычисление наблюдаемой характеристики для каждого месяца\n",
        "    for mon in range(len(td1)):\n",
        "      td1.MeanLength[mon] = d1[(d1['Начало'] <= month_end[mon]) & (d1['Конец'] >= month_start[mon])]['Продолжительность'].mean()\n",
        "\n",
        "    #рисование визуализации ряда - графика в двух осях\n",
        "    if (need_plt) :\n",
        "      td1.plot(figsize=(8, 6), ylim=(0, 3 * d1['Продолжительность'].mean()))\n",
        "    return td1\n"
      ],
      "execution_count": null,
      "outputs": []
    },
    {
      "cell_type": "markdown",
      "metadata": {
        "id": "dWy6mLtptm1Z"
      },
      "source": [
        "# Основная часть: Упаковка БД КАД в формат временных рядов"
      ]
    },
    {
      "cell_type": "markdown",
      "metadata": {
        "id": "0rGE6IAd6mOE"
      },
      "source": [
        "## Черновое тестирование\n",
        "Была составлена небольшая подборка репрезентативных и достаточно объемных групп дел по категориям, чтобы обкатывать алгоритмы, пока полная классификация находится на доработке.\n",
        "\n",
        "\n",
        "Построим графики ряда для каждой из них."
      ]
    },
    {
      "cell_type": "markdown",
      "metadata": {
        "id": "Uui19o6T8Ny2"
      },
      "source": [
        "1. Аренда транспортных средств (параграф 3 главы 34 Гражданского кодекса): Excel зеленые строки 26-30 : 2831 дело;"
      ]
    },
    {
      "cell_type": "code",
      "metadata": {
        "colab": {
          "base_uri": "https://localhost:8080/"
        },
        "id": "MaF9932Suz4z",
        "outputId": "aa14c83a-af57-4dfe-a7bb-3012b9cd4228"
      },
      "source": [
        "d1 = df[(df['Категория Спора'] == 'Аренда транспортных средств - Заключение договора') |\n",
        "        (df['Категория Спора'] == 'Аренда транспортных средств - Недействительность договора') |\n",
        "        (df['Категория Спора'] == 'Аренда транспортных средств - Неисполнение или ненадлежащее исполнение обязательств')]\n",
        "\n",
        "ts1 = TS_visualization_basic_info(d1, 0)"
      ],
      "execution_count": null,
      "outputs": [
        {
          "output_type": "stream",
          "text": [
            "Количество дел в категории: 2831\n",
            "Средняя прод-ть споров категории за все время: 111.27799364182268\n",
            "First start: 2014-01-09 \n",
            "Last start: 2016-06-01\n"
          ],
          "name": "stdout"
        }
      ]
    },
    {
      "cell_type": "markdown",
      "metadata": {
        "id": "IdVzpC398K3g"
      },
      "source": [
        "2. Финансовая аренда (лизинг) (параграф 6 главы 34 ГК) : оранж, Excel строки 189, 190, 360-364 : 26689 дел;"
      ]
    },
    {
      "cell_type": "code",
      "metadata": {
        "colab": {
          "base_uri": "https://localhost:8080/"
        },
        "id": "6vMm_68znF1T",
        "outputId": "9fa0bf9d-3bb4-4537-957a-6377daecd29b"
      },
      "source": [
        "d2 = df[(df['Категория Спора'] == 'Лизинг - Заключение договора') |\n",
        "        (df['Категория Спора'] == 'Лизинг - Недействительность договора') |\n",
        "        (df['Категория Спора'] == 'О неисполнении или ненадлежащем исполнении обязательств по договорам финансовой аренды (лизинга)')]\n",
        "\n",
        "ts2 = TS_visualization_basic_info(d2, 0)"
      ],
      "execution_count": null,
      "outputs": [
        {
          "output_type": "stream",
          "text": [
            "Количество дел в категории: 26689\n",
            "Средняя прод-ть споров категории за все время: 128.3581625388737\n",
            "First start: 2014-01-09 \n",
            "Last start: 2016-06-01\n"
          ],
          "name": "stdout"
        }
      ]
    },
    {
      "cell_type": "markdown",
      "metadata": {
        "id": "qWsF_qHB9DV3"
      },
      "source": [
        "3. Договоры купли-продажи недвижимости и предприятий (параграфы 7 и 8 главы 30 ГК) : синие Excel строки 181-188, 331-332 - суммарно 4326 дел;"
      ]
    },
    {
      "cell_type": "code",
      "metadata": {
        "colab": {
          "base_uri": "https://localhost:8080/"
        },
        "id": "lEJ45LfMnGKR",
        "outputId": "f9f10adb-4753-457a-9020-91f6f53a9526"
      },
      "source": [
        "d3 = df[(df['Категория Спора'] == 'Купля-продажа недвижимости - Заключение договора') |\n",
        "        (df['Категория Спора'] == 'Купля-продажа недвижимости - Недействительность договора') |\n",
        "        (df['Категория Спора'] == 'Купля-продажа недвижимости - Неисполнение или ненадлежащее исполнение обязательств') |\n",
        "        (df['Категория Спора'] == 'Купля-продажа предприятия - Заключение договора') |\n",
        "        (df['Категория Спора'] == 'Купля-продажа предприятия - Недействительность договора') |\n",
        "        (df['Категория Спора'] == 'Купля-продажа предприятия - Неисполнение или ненадлежащее исполнение обязательств') |\n",
        "        (df['Категория Спора'] == 'О неисполнении или ненадлежащем исполнении обязательств по договорам купли-продажи недвижимости и предприятий')]\n",
        "\n",
        "ts3 = TS_visualization_basic_info(d3, 0)"
      ],
      "execution_count": null,
      "outputs": [
        {
          "output_type": "stream",
          "text": [
            "Количество дел в категории: 4326\n",
            "Средняя прод-ть споров категории за все время: 155.12043458159962\n",
            "First start: 2014-01-09 \n",
            "Last start: 2016-06-01\n"
          ],
          "name": "stdout"
        }
      ]
    },
    {
      "cell_type": "markdown",
      "metadata": {
        "id": "KD_xIShc_zrm"
      },
      "source": [
        "4. Признание права собственности (глава 14 ГК) : желтые Excel стр 423-430, 672-674 - суммарно 29526 дел;"
      ]
    },
    {
      "cell_type": "code",
      "metadata": {
        "colab": {
          "base_uri": "https://localhost:8080/"
        },
        "id": "OzOHNJ2L_0bB",
        "outputId": "124d939c-4e6d-4edb-f804-c056adf14a22"
      },
      "source": [
        "d4 = df[(df['Категория Спора'] == 'О признании права собственности') |\n",
        "        (df['Категория Спора'] == 'О признании права собственности на землю') |\n",
        "        (df['Категория Спора'] == 'Споры, связанные с защитой права собственности')]\n",
        "\n",
        "ts4 = TS_visualization_basic_info(d4, 0)"
      ],
      "execution_count": null,
      "outputs": [
        {
          "output_type": "stream",
          "text": [
            "Количество дел в категории: 29526\n",
            "Средняя прод-ть споров категории за все время: 139.56211474632528\n",
            "First start: 2014-01-05 \n",
            "Last start: 2016-06-01\n"
          ],
          "name": "stdout"
        }
      ]
    },
    {
      "cell_type": "markdown",
      "metadata": {
        "id": "wMz68CHSAxnb"
      },
      "source": [
        "5. Авторское право (глава 70 ГК) - Excel строки 271-274, 649-652, 772, 778 - суммарно 10933 дела"
      ]
    },
    {
      "cell_type": "code",
      "metadata": {
        "colab": {
          "base_uri": "https://localhost:8080/"
        },
        "id": "k9NE_fgs_0dv",
        "outputId": "53d497bd-4151-4f01-de9e-c73511164be4"
      },
      "source": [
        "d5 = df[(df['Категория Спора'] == 'О защите авторских и смежных прав') |\n",
        "        (df['Категория Спора'] == 'Связанные с защитой объектов авторского права') |\n",
        "        (df['Категория Спора'] == 'о предоставлении или прекращении правовой охраны рез-ов интеллект. деятельности и средств индивидуализации (за искл. объек-ов автор-их и смеж. прав, топологий интегр. микросхем)') |\n",
        "        (df['Категория Спора'] == 'о защите авторских прав')]\n",
        "\n",
        "ts5 = TS_visualization_basic_info(d5, 0)"
      ],
      "execution_count": null,
      "outputs": [
        {
          "output_type": "stream",
          "text": [
            "Количество дел в категории: 10933\n",
            "Средняя прод-ть споров категории за все время: 125.72688191713162\n",
            "First start: 2014-01-09 \n",
            "Last start: 2016-06-01\n"
          ],
          "name": "stdout"
        }
      ]
    },
    {
      "cell_type": "markdown",
      "metadata": {
        "id": "wXcrcwFkKbME"
      },
      "source": [
        "Оценим схожесть графиков визуально с помощью изображения на общей плоскости."
      ]
    },
    {
      "cell_type": "code",
      "metadata": {
        "colab": {
          "base_uri": "https://localhost:8080/",
          "height": 487
        },
        "id": "XPxyYzq3_0ga",
        "outputId": "620eb9e3-713a-467a-b61e-56d9c40c0c44"
      },
      "source": [
        "plt.figure(figsize=(10,8))\n",
        "\n",
        "plt.plot(ts1)\n",
        "plt.plot(ts2)\n",
        "plt.plot(ts3)\n",
        "plt.plot(ts4)\n",
        "plt.plot(ts5)\n",
        "\n",
        "plt.ylim(0, 400)\n",
        "plt.legend(['1', '2', '3', '4', '5'])\n",
        "plt.show()"
      ],
      "execution_count": null,
      "outputs": [
        {
          "output_type": "display_data",
          "data": {
            "image/png": "[encoded data removed]",
            "text/plain": [
              "<Figure size 720x576 with 1 Axes>"
            ]
          },
          "metadata": {
            "tags": [],
            "needs_background": "light"
          }
        }
      ]
    },
    {
      "cell_type": "markdown",
      "metadata": {
        "id": "wc2Lx6dh112f"
      },
      "source": [
        "На первый взгляд заметны общие тенденции в поведении на определенных участках. Можно предположить, что ряды сильно коррелированны между собой. Сформулированные предположения будут проверены в следующих частях  вычислительных экспертиментов."
      ]
    },
    {
      "cell_type": "markdown",
      "metadata": {
        "id": "ScdVYnUA4oHp"
      },
      "source": [
        "Выгрузка рядов из тетрадки:"
      ]
    },
    {
      "cell_type": "code",
      "metadata": {
        "id": "n44VNeOe4ZKD"
      },
      "source": [
        "ts1.to_csv('/content/drive/MyDrive/НУЛ АДП Материалы Марии Тимониной/TimeSeries1.csv', sep=',')\n",
        "\n",
        "ts2.to_csv('/content/drive/MyDrive/НУЛ АДП Материалы Марии Тимониной/TimeSeries2.csv', sep=',')\n",
        "ts3.to_csv('/content/drive/MyDrive/НУЛ АДП Материалы Марии Тимониной/TimeSeries3.csv', sep=',')\n",
        "ts4.to_csv('/content/drive/MyDrive/НУЛ АДП Материалы Марии Тимониной/TimeSeries4.csv', sep=',')\n",
        "ts5.to_csv('/content/drive/MyDrive/НУЛ АДП Материалы Марии Тимониной/TimeSeries5.csv', sep=',')"
      ],
      "execution_count": null,
      "outputs": []
    },
    {
      "cell_type": "markdown",
      "metadata": {
        "id": "yvgCj8xrJuJc"
      },
      "source": [
        "# Резюмирующая заметка"
      ]
    },
    {
      "cell_type": "markdown",
      "metadata": {
        "id": "NCo_AtZ-J9l7"
      },
      "source": [
        ""
      ]
    }
  ]
}
